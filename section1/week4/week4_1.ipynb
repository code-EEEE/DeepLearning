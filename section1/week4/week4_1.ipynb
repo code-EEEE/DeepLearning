{
 "cells": [
  {
   "cell_type": "code",
   "execution_count": 1,
   "metadata": {},
   "outputs": [],
   "source": [
    "import numpy as np\n",
    "import h5py\n",
    "import matplotlib.pyplot as plt\n",
    "from testCases_v2 import *\n",
    "from dnn_utils_v2 import sigmoid, sigmoid_backward, relu, relu_backward\n",
    "\n",
    "%matplotlib inline\n",
    "plt.rcParams['figure.figsize'] = (5.0, 4.0) # set default size of plots\n",
    "plt.rcParams['image.interpolation'] = 'nearest'\n",
    "plt.rcParams['image.cmap'] = 'gray'\n",
    "\n",
    "%load_ext autoreload\n",
    "%autoreload 2\n",
    "\n",
    "np.random.seed(1)"
   ]
  },
  {
   "cell_type": "code",
   "execution_count": 53,
   "metadata": {},
   "outputs": [],
   "source": [
    "def initialize_parameters(n_x, n_h, n_y):\n",
    "    W1 = np.random.rand(n_h,n_x)\n",
    "    b1 = np.zeros((n_h,1))\n",
    "    W2 = np.random.rand(n_y,n_h)\n",
    "    b2 = np.zeros((n_y,1))\n",
    "\n",
    "    parameters={\"W1\":W1,\"W2\":W2,\"b1\":b1,\"b2\":b2}\n",
    "\n",
    "    return parameters\n",
    "\n",
    "def initialize_parameters_deep(layer_dims):\n",
    "    np.random.seed(3)\n",
    "    L = len(layer_dims)\n",
    "    parameters = {} \n",
    "    for i in range(L-1):\n",
    "        parameters[\"W\"+str(i+1)] = np.random.rand(layer_dims[i+1],layer_dims[i])\n",
    "        parameters[\"b\"+str(i+1)] = np.zeros((layer_dims[i+1],1))\n",
    "    return parameters\n",
    "\n",
    "def linear_forward(A, W, b):\n",
    "    Z = np.dot(W,A) + b\n",
    "    cache = (A,W,b)\n",
    "    return Z,cache\n",
    "\n",
    "def linear_activation_forward(A_prev, W, b, activation):\n",
    "    Z,cache_linear = linear_forward(A_prev,W,b)\n",
    "    if activation == \"sigmoid\":\n",
    "        A,cache_activation = sigmoid(Z)\n",
    "    if activation == \"relu\":\n",
    "        A,cache_activation = relu(Z)\n",
    "    cache = (cache_linear,cache_activation)\n",
    "    # cache包含Z，上层的A，W，b\n",
    "    return A, cache\n",
    "\n",
    "def L_model_forward(X, parameters):\n",
    "    \"\"\"\n",
    "    caches -- list of caches containing:\n",
    "                every cache of linear_relu_forward() (there are L-1 of them, indexed from 0 to L-2)\n",
    "                the cache of linear_sigmoid_forward() (there is one, indexed L-1)\n",
    "    \"\"\"\n",
    "    L = (int)(len(parameters)/2)\n",
    "    A = X\n",
    "    caches = {}\n",
    "    for i in range(L-1): \n",
    "        A,cache = linear_activation_forward(A,parameters[\"W\"+str(i+1)],parameters[\"b\"+str(i+1)],\"relu\")\n",
    "        caches[\"cache\"+str(i+1)] = cache\n",
    "    AL,cache = linear_activation_forward(A,parameters[\"W\"+str(L)],parameters[\"b\"+str(L)],\"sigmoid\")\n",
    "    caches[\"cache\"+str(L)] = cache\n",
    "    return AL,caches\n",
    "\n",
    "def compute_cost(AL, Y):\n",
    "    m = Y.shape[1]\n",
    "    cost_pre = -1/m*(np.multiply(Y,np.log(AL))+np.multiply((1-Y),np.log(1-AL)))\n",
    "    cost = np.sum(cost_pre)\n",
    "    return cost\n",
    "\n",
    "def linear_backward(dZ, cache):\n",
    "    "
   ]
  },
  {
   "cell_type": "code",
   "execution_count": 54,
   "metadata": {},
   "outputs": [
    {
     "name": "stdout",
     "output_type": "stream",
     "text": [
      "cost = [0.07438118 0.03512017 0.30543024]\n"
     ]
    }
   ],
   "source": [
    "Y, AL = compute_cost_test_case()\n",
    "\n",
    "print(\"cost = \" + str(compute_cost(AL, Y)))\n",
    "\n"
   ]
  },
  {
   "cell_type": "code",
   "execution_count": null,
   "metadata": {},
   "outputs": [],
   "source": []
  }
 ],
 "metadata": {
  "interpreter": {
   "hash": "abb664b4d4b911dd5c6122c9f20964eddf2a0666a06113ba4c0b09664bef17fd"
  },
  "kernelspec": {
   "display_name": "Python 3.9.7 ('base')",
   "language": "python",
   "name": "python3"
  },
  "language_info": {
   "codemirror_mode": {
    "name": "ipython",
    "version": 3
   },
   "file_extension": ".py",
   "mimetype": "text/x-python",
   "name": "python",
   "nbconvert_exporter": "python",
   "pygments_lexer": "ipython3",
   "version": "3.9.7"
  },
  "orig_nbformat": 4
 },
 "nbformat": 4,
 "nbformat_minor": 2
}
